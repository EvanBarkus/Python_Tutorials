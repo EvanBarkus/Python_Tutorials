{
 "cells": [
  {
   "cell_type": "code",
   "execution_count": 9,
   "id": "6389500c-662c-423c-af20-3e5063988d4b",
   "metadata": {
    "tags": []
   },
   "outputs": [],
   "source": [
    "import matplotlib.pyplot as plt\n",
    "%matplotlib inline\n",
    "import pandas\n",
    "pandas.set_option(\"display.max_rows\",999)\n",
    "from astropy.io import ascii\n",
    "from astropy.table import Table\n",
    "pandas.options.display.max_rows = 999   \n",
    "pandas.options.display.max_columns = 999 # Show me everything!  Scrollbars below will now cover the whole dataframe"
   ]
  },
  {
   "cell_type": "code",
   "execution_count": 11,
   "id": "e0aa393f-f8d9-47a8-894d-1f18b2aa8466",
   "metadata": {
    "tags": []
   },
   "outputs": [
    {
     "ename": "OSError",
     "evalue": "[Errno 22] Invalid argument: 'http://iopscience.iop.org/0067-0049/226/1/5/suppdata/apjsaa2f41t6_mrt.txt'",
     "output_type": "error",
     "traceback": [
      "\u001b[1;31m---------------------------------------------------------------------------\u001b[0m",
      "\u001b[1;31mOSError\u001b[0m                                   Traceback (most recent call last)",
      "Cell \u001b[1;32mIn[11], line 3\u001b[0m\n\u001b[0;32m      1\u001b[0m \u001b[38;5;66;03m# Read a machine-readable table from an ApJ paper into Pandas, via astropy.Table\u001b[39;00m\n\u001b[0;32m      2\u001b[0m infile \u001b[38;5;241m=\u001b[39m \u001b[38;5;124m\"\u001b[39m\u001b[38;5;124mhttp://iopscience.iop.org/0067-0049/226/1/5/suppdata/apjsaa2f41t6_mrt.txt\u001b[39m\u001b[38;5;124m\"\u001b[39m\n\u001b[1;32m----> 3\u001b[0m temp_table \u001b[38;5;241m=\u001b[39m ascii\u001b[38;5;241m.\u001b[39mread(infile,guess\u001b[38;5;241m=\u001b[39m\u001b[38;5;28;01mFalse\u001b[39;00m) \u001b[38;5;66;03m# this automagically gets the format right.  Good going, Astropy Tables!\u001b[39;00m\n\u001b[0;32m      4\u001b[0m df \u001b[38;5;241m=\u001b[39m temp_table\u001b[38;5;241m.\u001b[39mto_pandas()  \u001b[38;5;66;03m# Convert from astropy Table to Pandas Data Frame.  Needs astropy 1.2\u001b[39;00m\n\u001b[0;32m      5\u001b[0m df\u001b[38;5;241m.\u001b[39mhead(\u001b[38;5;241m2\u001b[39m)\n",
      "File \u001b[1;32mD:\\Anaconda\\Lib\\site-packages\\astropy\\io\\ascii\\ui.py:378\u001b[0m, in \u001b[0;36mread\u001b[1;34m(table, guess, **kwargs)\u001b[0m\n\u001b[0;32m    376\u001b[0m fast_reader_rdr \u001b[38;5;241m=\u001b[39m get_reader(\u001b[38;5;241m*\u001b[39m\u001b[38;5;241m*\u001b[39mfast_kwargs)\n\u001b[0;32m    377\u001b[0m \u001b[38;5;28;01mtry\u001b[39;00m:\n\u001b[1;32m--> 378\u001b[0m     dat \u001b[38;5;241m=\u001b[39m fast_reader_rdr\u001b[38;5;241m.\u001b[39mread(table)\n\u001b[0;32m    379\u001b[0m     _read_trace\u001b[38;5;241m.\u001b[39mappend({\u001b[38;5;124m'\u001b[39m\u001b[38;5;124mkwargs\u001b[39m\u001b[38;5;124m'\u001b[39m: copy\u001b[38;5;241m.\u001b[39mdeepcopy(fast_kwargs),\n\u001b[0;32m    380\u001b[0m                         \u001b[38;5;124m'\u001b[39m\u001b[38;5;124mReader\u001b[39m\u001b[38;5;124m'\u001b[39m: fast_reader_rdr\u001b[38;5;241m.\u001b[39m\u001b[38;5;18m__class__\u001b[39m,\n\u001b[0;32m    381\u001b[0m                         \u001b[38;5;124m'\u001b[39m\u001b[38;5;124mstatus\u001b[39m\u001b[38;5;124m'\u001b[39m: \u001b[38;5;124m'\u001b[39m\u001b[38;5;124mSuccess with fast reader (no guessing)\u001b[39m\u001b[38;5;124m'\u001b[39m})\n\u001b[0;32m    382\u001b[0m \u001b[38;5;28;01mexcept\u001b[39;00m (core\u001b[38;5;241m.\u001b[39mParameterError, cparser\u001b[38;5;241m.\u001b[39mCParserError, \u001b[38;5;167;01mUnicodeEncodeError\u001b[39;00m) \u001b[38;5;28;01mas\u001b[39;00m err:\n\u001b[0;32m    383\u001b[0m     \u001b[38;5;66;03m# special testing value to avoid falling back on the slow reader\u001b[39;00m\n",
      "File \u001b[1;32mD:\\Anaconda\\Lib\\site-packages\\astropy\\io\\ascii\\fastbasic.py:109\u001b[0m, in \u001b[0;36mFastBasic.read\u001b[1;34m(self, table)\u001b[0m\n\u001b[0;32m    106\u001b[0m \u001b[38;5;66;03m# Put fast_reader dict back into kwargs.\u001b[39;00m\n\u001b[0;32m    107\u001b[0m \u001b[38;5;28mself\u001b[39m\u001b[38;5;241m.\u001b[39mkwargs[\u001b[38;5;124m'\u001b[39m\u001b[38;5;124mfast_reader\u001b[39m\u001b[38;5;124m'\u001b[39m] \u001b[38;5;241m=\u001b[39m fast_reader\n\u001b[1;32m--> 109\u001b[0m \u001b[38;5;28mself\u001b[39m\u001b[38;5;241m.\u001b[39mengine \u001b[38;5;241m=\u001b[39m cparser\u001b[38;5;241m.\u001b[39mCParser(table, \u001b[38;5;28mself\u001b[39m\u001b[38;5;241m.\u001b[39mstrip_whitespace_lines,\n\u001b[0;32m    110\u001b[0m                               \u001b[38;5;28mself\u001b[39m\u001b[38;5;241m.\u001b[39mstrip_whitespace_fields,\n\u001b[0;32m    111\u001b[0m                               delimiter\u001b[38;5;241m=\u001b[39m\u001b[38;5;28mself\u001b[39m\u001b[38;5;241m.\u001b[39mdelimiter,\n\u001b[0;32m    112\u001b[0m                               header_start\u001b[38;5;241m=\u001b[39m\u001b[38;5;28mself\u001b[39m\u001b[38;5;241m.\u001b[39mheader_start,\n\u001b[0;32m    113\u001b[0m                               comment\u001b[38;5;241m=\u001b[39m\u001b[38;5;28mself\u001b[39m\u001b[38;5;241m.\u001b[39mcomment,\n\u001b[0;32m    114\u001b[0m                               quotechar\u001b[38;5;241m=\u001b[39m\u001b[38;5;28mself\u001b[39m\u001b[38;5;241m.\u001b[39mquotechar,\n\u001b[0;32m    115\u001b[0m                               data_start\u001b[38;5;241m=\u001b[39m\u001b[38;5;28mself\u001b[39m\u001b[38;5;241m.\u001b[39mdata_start,\n\u001b[0;32m    116\u001b[0m                               fill_extra_cols\u001b[38;5;241m=\u001b[39m\u001b[38;5;28mself\u001b[39m\u001b[38;5;241m.\u001b[39mfill_extra_cols,\n\u001b[0;32m    117\u001b[0m                               \u001b[38;5;241m*\u001b[39m\u001b[38;5;241m*\u001b[39m\u001b[38;5;28mself\u001b[39m\u001b[38;5;241m.\u001b[39mkwargs)\n\u001b[0;32m    118\u001b[0m conversion_info \u001b[38;5;241m=\u001b[39m \u001b[38;5;28mself\u001b[39m\u001b[38;5;241m.\u001b[39m_read_header()\n\u001b[0;32m    119\u001b[0m \u001b[38;5;28mself\u001b[39m\u001b[38;5;241m.\u001b[39mcheck_header()\n",
      "File \u001b[1;32mastropy\\io\\ascii\\cparser.pyx:248\u001b[0m, in \u001b[0;36mastropy.io.ascii.cparser.CParser.__cinit__\u001b[1;34m()\u001b[0m\n",
      "File \u001b[1;32mastropy\\io\\ascii\\cparser.pyx:296\u001b[0m, in \u001b[0;36mastropy.io.ascii.cparser.CParser.setup_tokenizer\u001b[1;34m()\u001b[0m\n",
      "File \u001b[1;32mastropy\\io\\ascii\\cparser.pyx:124\u001b[0m, in \u001b[0;36mastropy.io.ascii.cparser.FileString.__cinit__\u001b[1;34m()\u001b[0m\n",
      "\u001b[1;31mOSError\u001b[0m: [Errno 22] Invalid argument: 'http://iopscience.iop.org/0067-0049/226/1/5/suppdata/apjsaa2f41t6_mrt.txt'"
     ]
    }
   ],
   "source": [
    "# Read a machine-readable table from an ApJ paper into Pandas, via astropy.Table\n",
    "infile = \"http://iopscience.iop.org/0067-0049/226/1/5/suppdata/apjsaa2f41t6_mrt.txt\"\n",
    "temp_table = ascii.read(infile,guess=False) # this automagically gets the format right.  Good going, Astropy Tables!\n",
    "df = temp_table.to_pandas()  # Convert from astropy Table to Pandas Data Frame.  Needs astropy 1.2\n",
    "df.head(2) # show the first few lines of data frame.  The \"2\" is optional"
   ]
  }
 ],
 "metadata": {
  "kernelspec": {
   "display_name": "Python 3 (ipykernel)",
   "language": "python",
   "name": "python3"
  },
  "language_info": {
   "codemirror_mode": {
    "name": "ipython",
    "version": 3
   },
   "file_extension": ".py",
   "mimetype": "text/x-python",
   "name": "python",
   "nbconvert_exporter": "python",
   "pygments_lexer": "ipython3",
   "version": "3.11.4"
  }
 },
 "nbformat": 4,
 "nbformat_minor": 5
}
