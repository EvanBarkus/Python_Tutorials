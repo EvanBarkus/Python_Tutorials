{
 "cells": [
  {
   "cell_type": "code",
   "execution_count": 58,
   "id": "7767e8fb-2735-4e06-b920-64f6cc93f949",
   "metadata": {
    "tags": []
   },
   "outputs": [
    {
     "name": "stdout",
     "output_type": "stream",
     "text": [
      "Filename: C:\\Users\\EvanB.LAPTOP-8CHCIOMA\\.astropy\\cache\\download\\url\\519010d87325a22575dc1d16f3a05d26\\contents\n",
      "No.    Name      Ver    Type      Cards   Dimensions   Format\n",
      "  0  PRIMARY       1 PrimaryHDU      10   (100, 100)   float64   \n",
      "  1                1 ImageHDU        11   (128, 128)   float64   \n"
     ]
    }
   ],
   "source": [
    "from astropy.io import fits\n",
    "from astropy.utils.data import get_pkg_data_filename\n",
    "fits_file = get_pkg_data_filename('tutorials/FITS-Header/input_file.fits')\n",
    "\n",
    "fits.info(fits_file)"
   ]
  },
  {
   "cell_type": "code",
   "execution_count": 59,
   "id": "22245697-a105-4f19-b261-f1c62f67fabb",
   "metadata": {},
   "outputs": [
    {
     "data": {
      "text/plain": [
       "SIMPLE  =                    T / conforms to FITS standard                      \n",
       "BITPIX  =                  -64 / array data type                                \n",
       "NAXIS   =                    2 / number of array dimensions                     \n",
       "NAXIS1  =                  100                                                  \n",
       "NAXIS2  =                  100                                                  \n",
       "EXTEND  =                    T                                                  \n",
       "OBJECT  = 'M31     '                                                            \n",
       "RA      = '0h-41.8m'                                                            \n",
       "DEC     = '41deg-16arcmin'                                                      \n",
       "RADECSRC= 'http://astropixels.com/galaxies/M31-01.html'                         "
      ]
     },
     "execution_count": 59,
     "metadata": {},
     "output_type": "execute_result"
    }
   ],
   "source": [
    "hdu_number = 0 # HDU means header data unit\n",
    "fits.getheader(fits_file, hdu_number)"
   ]
  },
  {
   "cell_type": "code",
   "execution_count": 51,
   "id": "19e6bf79-f831-4789-be62-7b85d8d79921",
   "metadata": {
    "tags": []
   },
   "outputs": [
    {
     "name": "stdout",
     "output_type": "stream",
     "text": [
      "Filename: C:\\Users\\EvanB.LAPTOP-8CHCIOMA\\.astropy\\cache\\download\\url\\519010d87325a22575dc1d16f3a05d26\\contents\n",
      "No.    Name      Ver    Type      Cards   Dimensions   Format\n",
      "  0  PRIMARY       1 PrimaryHDU       9   (100, 100)   float64   \n",
      "  1                1 ImageHDU        11   (128, 128)   float64   \n"
     ]
    },
    {
     "data": {
      "text/plain": [
       "SIMPLE  =                    T / conforms to FITS standard                      \n",
       "BITPIX  =                  -64 / array data type                                \n",
       "NAXIS   =                    2 / number of array dimensions                     \n",
       "NAXIS1  =                  100                                                  \n",
       "NAXIS2  =                  100                                                  \n",
       "EXTEND  =                    T                                                  \n",
       "OBJECT  = 'M31     '                                                            \n",
       "RA      = 'M31     '                                                            \n",
       "DEC     = 'M31     '                                                            "
      ]
     },
     "execution_count": 51,
     "metadata": {},
     "output_type": "execute_result"
    }
   ],
   "source": [
    "# But hdu_number = 0 is the PRIMARY HDU.How many HDUs are in this file?\n",
    "fits_inf = fits.open(fits_file)\n",
    "fits_inf.info() \n",
    "fits_inf[0].header"
   ]
  },
  {
   "cell_type": "code",
   "execution_count": 57,
   "id": "e190b597-51c4-4ba7-a283-3f4af3f7d3fd",
   "metadata": {
    "tags": []
   },
   "outputs": [
    {
     "data": {
      "text/plain": [
       "SIMPLE  =                    T / conforms to FITS standard                      \n",
       "BITPIX  =                  -64 / array data type                                \n",
       "NAXIS   =                    2 / number of array dimensions                     \n",
       "NAXIS1  =                  100                                                  \n",
       "NAXIS2  =                  100                                                  \n",
       "EXTEND  =                    T                                                  \n",
       "OBJECT  = 'M31     '                                                            \n",
       "RA      = 'M31     '                                                            \n",
       "DEC     = 'M31     '                                                            "
      ]
     },
     "execution_count": 57,
     "metadata": {},
     "output_type": "execute_result"
    }
   ],
   "source": [
    "fits.setval(fits_file, 'RADECSRC', value='http://astropixels.com/galaxies/M31-01.html')\n",
    "#fits.setval(fits_file, 'OBJECT', value='M31', ext=1)\n",
    "#fits_file['OBJECT']='DEC'\n",
    "fits_inf[0].header"
   ]
  },
  {
   "cell_type": "code",
   "execution_count": 47,
   "id": "d11fbd9e-cbd2-4852-aceb-9bef349411bd",
   "metadata": {
    "tags": []
   },
   "outputs": [],
   "source": [
    "#fits.writeto('output_file.fits', fits_file, overwrite=True)"
   ]
  },
  {
   "cell_type": "code",
   "execution_count": 61,
   "id": "2e28648a-d1e1-4ffe-881a-3b3c4dc0d516",
   "metadata": {
    "tags": []
   },
   "outputs": [],
   "source": [
    "fits_inf.close()"
   ]
  }
 ],
 "metadata": {
  "kernelspec": {
   "display_name": "Python 3 (ipykernel)",
   "language": "python",
   "name": "python3"
  },
  "language_info": {
   "codemirror_mode": {
    "name": "ipython",
    "version": 3
   },
   "file_extension": ".py",
   "mimetype": "text/x-python",
   "name": "python",
   "nbconvert_exporter": "python",
   "pygments_lexer": "ipython3",
   "version": "3.11.4"
  }
 },
 "nbformat": 4,
 "nbformat_minor": 5
}
