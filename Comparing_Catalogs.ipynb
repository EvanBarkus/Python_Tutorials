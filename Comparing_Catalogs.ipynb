{
 "cells": [
  {
   "cell_type": "code",
   "execution_count": 1,
   "id": "91491b48-d713-4754-b47d-88b6f2b72d24",
   "metadata": {
    "tags": []
   },
   "outputs": [],
   "source": [
    "from astropy.table import Table, Column, join\n",
    "from numpy import *\n",
    "import matplotlib.pyplot as plt\n",
    "%matplotlib inline\n",
    "import numpy as np\n",
    "from astropy.io import ascii"
   ]
  },
  {
   "cell_type": "code",
   "execution_count": 7,
   "id": "c4a73333-e067-4c2a-8428-bf6a5b4a1110",
   "metadata": {
    "tags": []
   },
   "outputs": [],
   "source": [
    "catalog_path='/Users/EvanB.LAPTOP-8CHCIOMA/Downloads/'\n",
    "catalog_path2='/Users/EvanB.LAPTOP-8CHCIOMA/Downloads/'\n",
    "\n",
    "HST=ascii.read(catalog_path2+'goodss_3dhst.v4.1.cat',data_start=0,header_start=0,delimiter=' ')\n",
    "\n",
    "Prelim_catalog=ascii.read(catalog_path+'hlsp_hlf_hst_60mas_goodss.v1.0.nzpcat',data_start=0,header_start=0,delimiter=' ')"
   ]
  },
  {
   "cell_type": "code",
   "execution_count": 8,
   "id": "06372241-765e-49db-bfbb-0ad6793fb534",
   "metadata": {
    "tags": []
   },
   "outputs": [
    {
     "name": "stdout",
     "output_type": "stream",
     "text": [
      "  id      x         y         ra    ... nexp_f125w nexp_f140w nexp_f160w\n",
      "----- --------- --------- --------- ... ---------- ---------- ----------\n",
      "    1 11876.639   1632.89 53.093012 ...        4.0        0.0        4.0\n",
      "    2 12056.715  1321.055 53.089613 ...        2.0        0.0        1.0\n",
      "    3 11351.875  1327.244 53.102913 ...        1.0        0.0        1.0\n",
      "    4 11415.681  1396.836 53.101709 ...        2.0        0.0        2.0\n",
      "    5  11385.57  1384.729 53.102277 ...        2.0        0.0        2.0\n",
      "    6 12005.665  1394.706 53.090577 ...        2.0        0.0        2.0\n",
      "    7 11508.163  1409.004 53.099964 ...        2.0        0.0        2.0\n",
      "    8 11710.638  1450.711 53.096144 ...        2.0        0.0        2.0\n",
      "    9 11952.919  1403.613 53.091572 ...        2.0        0.0        2.0\n",
      "   10 11938.062  1414.769 53.091852 ...        2.0        0.0        2.0\n",
      "  ...       ...       ...       ... ...        ...        ...        ...\n",
      "50497  8889.778 18988.826 53.149298 ...        3.0        0.0        3.0\n",
      "50498  7596.216 19253.178 53.173638 ...        5.0        0.0        5.0\n",
      "50499  7849.441 18896.686 53.168876 ...        6.0        0.0        6.0\n",
      "50500  2944.198 18924.184 53.261183 ...        4.0        0.0        7.0\n",
      "50501  8601.418 18808.895 53.154725 ...        6.0        4.0        6.0\n",
      "50502  7876.559  19063.41 53.168364 ...        6.0        0.0        6.0\n",
      "50503  3207.811 18767.998 53.256225 ...       24.0        4.0       26.0\n",
      "50504  3319.077 18889.404 53.254129 ...       24.0        4.0       26.0\n",
      "50505  7634.091 18915.908 53.172928 ...        6.0        0.0        6.0\n",
      "50506  8669.859   18840.1 53.153437 ...        6.0        0.0        6.0\n",
      "50507  3041.903  18822.67 53.259346 ...       24.0        4.0       26.0\n",
      "Length = 50507 rows\n"
     ]
    }
   ],
   "source": [
    "print(HST)"
   ]
  },
  {
   "cell_type": "code",
   "execution_count": 9,
   "id": "bced791b-0d4e-4766-9c13-9f3dfd97a76a",
   "metadata": {
    "tags": []
   },
   "outputs": [
    {
     "name": "stdout",
     "output_type": "stream",
     "text": [
      "   id      x       y         ra     ... flux_radius fwhm_image flags use\n",
      "------- ------- ------- ----------- ... ----------- ---------- ----- ---\n",
      "    1.0 14060.9  3510.6  53.0933075 ...       -99.0      -99.0    19   0\n",
      "    2.0 14223.0  3258.3 53.09024811 ...       -99.0      -99.0     1   0\n",
      "    3.0 14257.9  3347.6 53.08959198 ...       -99.0      -99.0     3   0\n",
      "    4.0 14288.4  3438.2 53.08901596 ...       -99.0      -99.0     3   0\n",
      "    5.0 13615.7  3298.2 53.10170746 ...       -99.0      -99.0     0   0\n",
      "    6.0 13708.0  3309.3 53.09996796 ...       -99.0      -99.0     0   0\n",
      "    7.0 14210.8  3266.1  53.0904808 ...       -99.0      -99.0     1   0\n",
      "    8.0 13910.8  3351.0 53.09614182 ...       -99.0      -99.0     3   0\n",
      "    9.0 13585.0  3286.9 53.10228729 ...       -99.0      -99.0     0   0\n",
      "   10.0 14204.8  3295.2 53.09059143 ...       -99.0      -99.0     0   0\n",
      "    ...     ...     ...         ... ...         ...        ...   ... ...\n",
      "47968.0  9962.3 21363.2 53.17051315 ...       -99.0      -99.0     0   0\n",
      "47969.0  9983.9 21377.9 53.17010498 ...       -99.0      -99.0     0   0\n",
      "47970.0  9681.0 21381.2 53.17580414 ...       -99.0      -99.0     0   0\n",
      "47971.0  9742.7 21406.5 53.17464447 ...       -99.0      -99.0     0   0\n",
      "47972.0  9873.4 21394.9 53.17218399 ...       -99.0      -99.0     0   0\n",
      "47973.0  9717.7 21441.1 53.17511368 ...       -99.0      -99.0     1   0\n",
      "47974.0  9736.5 21440.0 53.17475891 ...       -99.0      -99.0     3   0\n",
      "47975.0  9786.6 21440.9 53.17381668 ...       -99.0      -99.0     0   0\n",
      "47976.0  9772.6 21441.6  53.1740799 ...       -99.0      -99.0     0   0\n",
      "47977.0  9727.7 21455.3 53.17492294 ...       -99.0      -99.0     3   0\n",
      "47978.0  9705.0 21456.5 53.17535019 ...       -99.0      -99.0     1   0\n",
      "Length = 47978 rows\n"
     ]
    }
   ],
   "source": [
    "print(Prelim_catalog)"
   ]
  },
  {
   "cell_type": "code",
   "execution_count": 12,
   "id": "4947322c-414e-4c7a-89c2-abed6c7e421c",
   "metadata": {
    "tags": []
   },
   "outputs": [],
   "source": [
    "from astropy.coordinates import SkyCoord\n",
    "from astropy.coordinates import ICRS, Galactic, FK4, FK5\n",
    "from astropy.coordinates import Angle, Latitude, Longitude\n",
    "from astropy import units as u "
   ]
  },
  {
   "cell_type": "code",
   "execution_count": 14,
   "id": "14b23b43-6516-4699-a741-a97133e58661",
   "metadata": {
    "tags": []
   },
   "outputs": [
    {
     "ename": "TypeError",
     "evalue": "concatenate() got an unexpected keyword argument 'dtype'",
     "output_type": "error",
     "traceback": [
      "\u001b[1;31m---------------------------------------------------------------------------\u001b[0m",
      "\u001b[1;31mTypeError\u001b[0m                                 Traceback (most recent call last)",
      "Cell \u001b[1;32mIn[14], line 7\u001b[0m\n\u001b[0;32m      5\u001b[0m c1 \u001b[38;5;241m=\u001b[39m SkyCoord(ra1,dec1,frame\u001b[38;5;241m=\u001b[39m\u001b[38;5;124m'\u001b[39m\u001b[38;5;124micrs\u001b[39m\u001b[38;5;124m'\u001b[39m,unit\u001b[38;5;241m=\u001b[39m\u001b[38;5;124m'\u001b[39m\u001b[38;5;124mdeg\u001b[39m\u001b[38;5;124m'\u001b[39m)\n\u001b[0;32m      6\u001b[0m c2 \u001b[38;5;241m=\u001b[39m SkyCoord(ra2,dec2,frame\u001b[38;5;241m=\u001b[39m\u001b[38;5;124m'\u001b[39m\u001b[38;5;124micrs\u001b[39m\u001b[38;5;124m'\u001b[39m,unit\u001b[38;5;241m=\u001b[39m\u001b[38;5;124m'\u001b[39m\u001b[38;5;124mdeg\u001b[39m\u001b[38;5;124m'\u001b[39m)\n\u001b[1;32m----> 7\u001b[0m idx,d2d,d3d \u001b[38;5;241m=\u001b[39m c2\u001b[38;5;241m.\u001b[39mmatch_to_catalog_sky(c1)\n",
      "File \u001b[1;32mD:\\Anaconda\\Lib\\site-packages\\astropy\\coordinates\\sky_coordinate.py:1386\u001b[0m, in \u001b[0;36mSkyCoord.match_to_catalog_sky\u001b[1;34m(self, catalogcoord, nthneighbor)\u001b[0m\n\u001b[0;32m   1381\u001b[0m \u001b[38;5;28;01mif\u001b[39;00m \u001b[38;5;129;01mnot\u001b[39;00m (\u001b[38;5;28misinstance\u001b[39m(catalogcoord, (SkyCoord, BaseCoordinateFrame))\n\u001b[0;32m   1382\u001b[0m         \u001b[38;5;129;01mand\u001b[39;00m catalogcoord\u001b[38;5;241m.\u001b[39mhas_data):\n\u001b[0;32m   1383\u001b[0m     \u001b[38;5;28;01mraise\u001b[39;00m \u001b[38;5;167;01mTypeError\u001b[39;00m(\u001b[38;5;124m'\u001b[39m\u001b[38;5;124mCan only get separation to another SkyCoord or a \u001b[39m\u001b[38;5;124m'\u001b[39m\n\u001b[0;32m   1384\u001b[0m                     \u001b[38;5;124m'\u001b[39m\u001b[38;5;124mcoordinate frame with data\u001b[39m\u001b[38;5;124m'\u001b[39m)\n\u001b[1;32m-> 1386\u001b[0m res \u001b[38;5;241m=\u001b[39m match_coordinates_sky(\u001b[38;5;28mself\u001b[39m, catalogcoord,\n\u001b[0;32m   1387\u001b[0m                             nthneighbor\u001b[38;5;241m=\u001b[39mnthneighbor,\n\u001b[0;32m   1388\u001b[0m                             storekdtree\u001b[38;5;241m=\u001b[39m\u001b[38;5;124m'\u001b[39m\u001b[38;5;124m_kdtree_sky\u001b[39m\u001b[38;5;124m'\u001b[39m)\n\u001b[0;32m   1389\u001b[0m \u001b[38;5;28;01mreturn\u001b[39;00m res\n",
      "File \u001b[1;32mD:\\Anaconda\\Lib\\site-packages\\astropy\\coordinates\\matching.py:164\u001b[0m, in \u001b[0;36mmatch_coordinates_sky\u001b[1;34m(matchcoord, catalogcoord, nthneighbor, storekdtree)\u001b[0m\n\u001b[0;32m    159\u001b[0m \u001b[38;5;66;03m# Check for a stored KD-tree on the passed-in coordinate. Normally it will\u001b[39;00m\n\u001b[0;32m    160\u001b[0m \u001b[38;5;66;03m# have a distinct name from the \"3D\" one, so it's safe to use even though\u001b[39;00m\n\u001b[0;32m    161\u001b[0m \u001b[38;5;66;03m# it's based on UnitSphericalRepresentation.\u001b[39;00m\n\u001b[0;32m    162\u001b[0m storekdtree \u001b[38;5;241m=\u001b[39m catalogcoord\u001b[38;5;241m.\u001b[39mcache\u001b[38;5;241m.\u001b[39mget(storekdtree, storekdtree)\n\u001b[1;32m--> 164\u001b[0m idx, sep2d, sep3d \u001b[38;5;241m=\u001b[39m match_coordinates_3d(newmatch_u, newcat_u, nthneighbor, storekdtree)\n\u001b[0;32m    165\u001b[0m \u001b[38;5;66;03m# sep3d is *wrong* above, because the distance information was removed,\u001b[39;00m\n\u001b[0;32m    166\u001b[0m \u001b[38;5;66;03m# unless one of the catalogs doesn't have a real distance\u001b[39;00m\n\u001b[0;32m    167\u001b[0m \u001b[38;5;28;01mif\u001b[39;00m \u001b[38;5;129;01mnot\u001b[39;00m (\u001b[38;5;28misinstance\u001b[39m(catalogcoord\u001b[38;5;241m.\u001b[39mdata, UnitSphericalRepresentation) \u001b[38;5;129;01mor\u001b[39;00m\n\u001b[0;32m    168\u001b[0m         \u001b[38;5;28misinstance\u001b[39m(newmatch\u001b[38;5;241m.\u001b[39mdata, UnitSphericalRepresentation)):\n",
      "File \u001b[1;32mD:\\Anaconda\\Lib\\site-packages\\astropy\\coordinates\\matching.py:68\u001b[0m, in \u001b[0;36mmatch_coordinates_3d\u001b[1;34m(matchcoord, catalogcoord, nthneighbor, storekdtree)\u001b[0m\n\u001b[0;32m     64\u001b[0m \u001b[38;5;28;01mif\u001b[39;00m catalogcoord\u001b[38;5;241m.\u001b[39misscalar \u001b[38;5;129;01mor\u001b[39;00m \u001b[38;5;28mlen\u001b[39m(catalogcoord) \u001b[38;5;241m<\u001b[39m \u001b[38;5;241m1\u001b[39m:\n\u001b[0;32m     65\u001b[0m     \u001b[38;5;28;01mraise\u001b[39;00m \u001b[38;5;167;01mValueError\u001b[39;00m(\u001b[38;5;124m'\u001b[39m\u001b[38;5;124mThe catalog for coordinate matching cannot be a \u001b[39m\u001b[38;5;124m'\u001b[39m\n\u001b[0;32m     66\u001b[0m                      \u001b[38;5;124m'\u001b[39m\u001b[38;5;124mscalar or length-0.\u001b[39m\u001b[38;5;124m'\u001b[39m)\n\u001b[1;32m---> 68\u001b[0m kdt \u001b[38;5;241m=\u001b[39m _get_cartesian_kdtree(catalogcoord, storekdtree)\n\u001b[0;32m     70\u001b[0m \u001b[38;5;66;03m# make sure coordinate systems match\u001b[39;00m\n\u001b[0;32m     71\u001b[0m \u001b[38;5;28;01mif\u001b[39;00m \u001b[38;5;28misinstance\u001b[39m(matchcoord, SkyCoord):\n",
      "File \u001b[1;32mD:\\Anaconda\\Lib\\site-packages\\astropy\\coordinates\\matching.py:466\u001b[0m, in \u001b[0;36m_get_cartesian_kdtree\u001b[1;34m(coord, attrname_or_kdt, forceunit)\u001b[0m\n\u001b[0;32m    463\u001b[0m \u001b[38;5;28;01mif\u001b[39;00m kdt \u001b[38;5;129;01mis\u001b[39;00m \u001b[38;5;28;01mNone\u001b[39;00m:\n\u001b[0;32m    464\u001b[0m     \u001b[38;5;66;03m# need to build the cartesian KD-tree for the catalog\u001b[39;00m\n\u001b[0;32m    465\u001b[0m     \u001b[38;5;28;01mif\u001b[39;00m forceunit \u001b[38;5;129;01mis\u001b[39;00m \u001b[38;5;28;01mNone\u001b[39;00m:\n\u001b[1;32m--> 466\u001b[0m         cartxyz \u001b[38;5;241m=\u001b[39m coord\u001b[38;5;241m.\u001b[39mcartesian\u001b[38;5;241m.\u001b[39mxyz\n\u001b[0;32m    467\u001b[0m     \u001b[38;5;28;01melse\u001b[39;00m:\n\u001b[0;32m    468\u001b[0m         cartxyz \u001b[38;5;241m=\u001b[39m coord\u001b[38;5;241m.\u001b[39mcartesian\u001b[38;5;241m.\u001b[39mxyz\u001b[38;5;241m.\u001b[39mto(forceunit)\n",
      "File \u001b[1;32mD:\\Anaconda\\Lib\\site-packages\\astropy\\coordinates\\representation.py:1351\u001b[0m, in \u001b[0;36mCartesianRepresentation.get_xyz\u001b[1;34m(self, xyz_axis)\u001b[0m\n\u001b[0;32m   1346\u001b[0m         \u001b[38;5;28;01mreturn\u001b[39;00m np\u001b[38;5;241m.\u001b[39mmoveaxis(\u001b[38;5;28mself\u001b[39m\u001b[38;5;241m.\u001b[39m_xyz, \u001b[38;5;28mself\u001b[39m\u001b[38;5;241m.\u001b[39m_xyz_axis, xyz_axis)\n\u001b[0;32m   1348\u001b[0m \u001b[38;5;66;03m# Create combined array.  TO DO: keep it in _xyz for repeated use?\u001b[39;00m\n\u001b[0;32m   1349\u001b[0m \u001b[38;5;66;03m# But then in-place changes have to cancel it. Likely best to\u001b[39;00m\n\u001b[0;32m   1350\u001b[0m \u001b[38;5;66;03m# also update components.\u001b[39;00m\n\u001b[1;32m-> 1351\u001b[0m \u001b[38;5;28;01mreturn\u001b[39;00m np\u001b[38;5;241m.\u001b[39mstack([\u001b[38;5;28mself\u001b[39m\u001b[38;5;241m.\u001b[39m_x, \u001b[38;5;28mself\u001b[39m\u001b[38;5;241m.\u001b[39m_y, \u001b[38;5;28mself\u001b[39m\u001b[38;5;241m.\u001b[39m_z], axis\u001b[38;5;241m=\u001b[39mxyz_axis)\n",
      "File \u001b[1;32m<__array_function__ internals>:200\u001b[0m, in \u001b[0;36mstack\u001b[1;34m(*args, **kwargs)\u001b[0m\n",
      "File \u001b[1;32mD:\\Anaconda\\Lib\\site-packages\\astropy\\units\\quantity.py:1683\u001b[0m, in \u001b[0;36mQuantity.__array_function__\u001b[1;34m(self, function, types, args, kwargs)\u001b[0m\n\u001b[0;32m   1670\u001b[0m \u001b[38;5;66;03m# A function should be in one of the following sets or dicts:\u001b[39;00m\n\u001b[0;32m   1671\u001b[0m \u001b[38;5;66;03m# 1. SUBCLASS_SAFE_FUNCTIONS (set), if the numpy implementation\u001b[39;00m\n\u001b[0;32m   1672\u001b[0m \u001b[38;5;66;03m#    supports Quantity; we pass on to ndarray.__array_function__.\u001b[39;00m\n\u001b[1;32m   (...)\u001b[0m\n\u001b[0;32m   1680\u001b[0m \u001b[38;5;66;03m# function is in none of the above, we simply call the numpy\u001b[39;00m\n\u001b[0;32m   1681\u001b[0m \u001b[38;5;66;03m# implementation.\u001b[39;00m\n\u001b[0;32m   1682\u001b[0m \u001b[38;5;28;01mif\u001b[39;00m function \u001b[38;5;129;01min\u001b[39;00m SUBCLASS_SAFE_FUNCTIONS:\n\u001b[1;32m-> 1683\u001b[0m     \u001b[38;5;28;01mreturn\u001b[39;00m \u001b[38;5;28msuper\u001b[39m()\u001b[38;5;241m.\u001b[39m__array_function__(function, types, args, kwargs)\n\u001b[0;32m   1685\u001b[0m \u001b[38;5;28;01melif\u001b[39;00m function \u001b[38;5;129;01min\u001b[39;00m FUNCTION_HELPERS:\n\u001b[0;32m   1686\u001b[0m     function_helper \u001b[38;5;241m=\u001b[39m FUNCTION_HELPERS[function]\n",
      "File \u001b[1;32mD:\\Anaconda\\Lib\\site-packages\\numpy\\core\\shape_base.py:471\u001b[0m, in \u001b[0;36mstack\u001b[1;34m(arrays, axis, out, dtype, casting)\u001b[0m\n\u001b[0;32m    469\u001b[0m sl \u001b[38;5;241m=\u001b[39m (\u001b[38;5;28mslice\u001b[39m(\u001b[38;5;28;01mNone\u001b[39;00m),) \u001b[38;5;241m*\u001b[39m axis \u001b[38;5;241m+\u001b[39m (_nx\u001b[38;5;241m.\u001b[39mnewaxis,)\n\u001b[0;32m    470\u001b[0m expanded_arrays \u001b[38;5;241m=\u001b[39m [arr[sl] \u001b[38;5;28;01mfor\u001b[39;00m arr \u001b[38;5;129;01min\u001b[39;00m arrays]\n\u001b[1;32m--> 471\u001b[0m \u001b[38;5;28;01mreturn\u001b[39;00m _nx\u001b[38;5;241m.\u001b[39mconcatenate(expanded_arrays, axis\u001b[38;5;241m=\u001b[39maxis, out\u001b[38;5;241m=\u001b[39mout,\n\u001b[0;32m    472\u001b[0m                        dtype\u001b[38;5;241m=\u001b[39mdtype, casting\u001b[38;5;241m=\u001b[39mcasting)\n",
      "File \u001b[1;32m<__array_function__ internals>:200\u001b[0m, in \u001b[0;36mconcatenate\u001b[1;34m(*args, **kwargs)\u001b[0m\n",
      "File \u001b[1;32mD:\\Anaconda\\Lib\\site-packages\\astropy\\units\\quantity.py:1688\u001b[0m, in \u001b[0;36mQuantity.__array_function__\u001b[1;34m(self, function, types, args, kwargs)\u001b[0m\n\u001b[0;32m   1686\u001b[0m function_helper \u001b[38;5;241m=\u001b[39m FUNCTION_HELPERS[function]\n\u001b[0;32m   1687\u001b[0m \u001b[38;5;28;01mtry\u001b[39;00m:\n\u001b[1;32m-> 1688\u001b[0m     args, kwargs, unit, out \u001b[38;5;241m=\u001b[39m function_helper(\u001b[38;5;241m*\u001b[39margs, \u001b[38;5;241m*\u001b[39m\u001b[38;5;241m*\u001b[39mkwargs)\n\u001b[0;32m   1689\u001b[0m \u001b[38;5;28;01mexcept\u001b[39;00m \u001b[38;5;167;01mNotImplementedError\u001b[39;00m:\n\u001b[0;32m   1690\u001b[0m     \u001b[38;5;28;01mreturn\u001b[39;00m \u001b[38;5;28mself\u001b[39m\u001b[38;5;241m.\u001b[39m_not_implemented_or_raise(function, types)\n",
      "\u001b[1;31mTypeError\u001b[0m: concatenate() got an unexpected keyword argument 'dtype'"
     ]
    }
   ],
   "source": [
    "ra1 = HST['ra']\n",
    "dec1 = HST['dec']\n",
    "ra2 = Prelim_catalog['ra']\n",
    "dec2 = Prelim_catalog['dec']\n",
    "c1 = SkyCoord(ra1,dec1,frame='icrs',unit='deg')\n",
    "c2 = SkyCoord(ra2,dec2,frame='icrs',unit='deg')\n",
    "idx,d2d,d3d = c2.match_to_catalog_sky(c1)"
   ]
  }
 ],
 "metadata": {
  "kernelspec": {
   "display_name": "Python 3 (ipykernel)",
   "language": "python",
   "name": "python3"
  },
  "language_info": {
   "codemirror_mode": {
    "name": "ipython",
    "version": 3
   },
   "file_extension": ".py",
   "mimetype": "text/x-python",
   "name": "python",
   "nbconvert_exporter": "python",
   "pygments_lexer": "ipython3",
   "version": "3.11.4"
  }
 },
 "nbformat": 4,
 "nbformat_minor": 5
}
